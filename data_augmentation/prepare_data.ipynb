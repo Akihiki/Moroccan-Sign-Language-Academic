{
 "cells": [
  {
   "cell_type": "code",
   "execution_count": 16,
   "id": "1cdc3d47-a563-4b8d-9c18-be5837b9eff2",
   "metadata": {
    "pycharm": {
     "name": "#%%\n"
    }
   },
   "outputs": [],
   "source": [
    "from tensorflow.keras.preprocessing.image import ImageDataGenerator, array_to_img, img_to_array, load_img\n",
    "import cv2\n",
    "import os\n",
    "\n",
    "import PIL\n",
    "from PIL import Image"
   ]
  },
  {
   "cell_type": "code",
   "execution_count": 20,
   "id": "019d14bd-59c9-4139-b21d-871fcbd3e049",
   "metadata": {
    "pycharm": {
     "name": "#%%\n"
    }
   },
   "outputs": [],
   "source": [
    "# LABELS = ['A','B','T','TH']\n",
    "# LABELS = ['A','AIN','B','D','DAD','GH','L','R','S','T','TH','Y']\n",
    "# LABELS = ['CH', 'F', 'H', 'J', 'M', 'SAD', 'TA', 'TH','THA']\n",
    "LABELS = ['HAPPYMOJI','ANGRYMOJI','SADMOJI']\n",
    "SRC_DIR = 'letters_14'\n",
    "DEST_DIR = 'alphabets_14'\n",
    "\n",
    "for letter in LABELS:\n",
    "    i=1\n",
    "    # src_dir = 'letters_3/' + letter\n",
    "    src_dir = os.path.join(SRC_DIR,letter)\n",
    "    src_paths = [os.path.join(src_dir,f) for f in os.listdir(src_dir)]\n",
    "    for src_path in src_paths:\n",
    "        # dest_path = 'letter_3/'+letter+'_'+str(i)+'.jpg'\n",
    "        # dest_dir = os.path.join('letters_3',letter+'_'+str(i)+'.jpg')\n",
    "        dest_path = os.path.join(SRC_DIR,'dest',letter+'_'+str(i)+'.jpg')\n",
    "        os.rename(src_path,dest_path)\n",
    "        i+=1"
   ]
  },
  {
   "cell_type": "code",
   "execution_count": 21,
   "id": "e67262b2-6127-4975-830a-f09c112353e4",
   "metadata": {
    "pycharm": {
     "name": "#%%\n"
    }
   },
   "outputs": [],
   "source": [
    "datagen = ImageDataGenerator(\n",
    "        rotation_range=40,\n",
    "        # width_shift_range=0.2,\n",
    "        # height_shift_range=0.2,\n",
    "        shear_range=0.2,\n",
    "        zoom_range=0.2,\n",
    "        horizontal_flip=True,\n",
    "        fill_mode='nearest')\n",
    " \n",
    "    \n",
    "def resizeImage(path):\n",
    "    basewidth = 400\n",
    "    img_resize = Image.open(path)\n",
    "    wpercent = (basewidth / float(img_resize.size[0]))\n",
    "    hsize = 400\n",
    "    img_resize = img_resize.resize((basewidth, hsize), Image.ANTIALIAS)\n",
    "    img_resize.save(path)\n",
    "    \n",
    "    \n",
    "def Augment_And_Rotate(path,folderName):\n",
    "     \n",
    "    resizeImage(path)\n",
    "    \n",
    "    img = load_img(path)\n",
    "    \n",
    "    x = img_to_array(img)  \n",
    "    x = x.reshape((1,) + x.shape)  \n",
    "    i = 0\n",
    "    dir_path = DEST_DIR+'/'+folderName+'/'\n",
    "    assure_path_exists(dir_path)\n",
    "    for batch in datagen.flow(x, batch_size=1,save_to_dir=dir_path, save_prefix=folderName, save_format='jpeg'):   \n",
    "        i += 1\n",
    "        if i > 31:\n",
    "            break    \n",
    "    \n",
    "def getImagesAndLabels(path):\n",
    "    imagePaths = [os.path.join(path,f) for f in os.listdir(path)] \n",
    "    for imagePath in imagePaths:\n",
    "        print(\"traitement de : \" + imagePath)\n",
    "        folderName = os.path.split(imagePath)[-1].split(\"_\")[0]\n",
    "        print(folderName)\n",
    "        Augment_And_Rotate(imagePath,folderName)\n",
    "        \n",
    "def assure_path_exists(path):\n",
    "    dir = os.path.dirname(path)\n",
    "    if not os.path.exists(dir):\n",
    "        os.makedirs(dir)"
   ]
  },
  {
   "cell_type": "code",
   "execution_count": 22,
   "outputs": [
    {
     "name": "stdout",
     "output_type": "stream",
     "text": [
      "traitement de : letters_14/dest/ANGRYMOJI_4.jpg\n",
      "ANGRYMOJI\n"
     ]
    },
    {
     "name": "stderr",
     "output_type": "stream",
     "text": [
      "/tmp/ipykernel_16682/60576812.py:16: DeprecationWarning: ANTIALIAS is deprecated and will be removed in Pillow 10 (2023-07-01). Use Resampling.LANCZOS instead.\n",
      "  img_resize = img_resize.resize((basewidth, hsize), Image.ANTIALIAS)\n"
     ]
    },
    {
     "name": "stdout",
     "output_type": "stream",
     "text": [
      "traitement de : letters_14/dest/SADMOJI_1.jpg\n",
      "SADMOJI\n",
      "traitement de : letters_14/dest/SADMOJI_2.jpg\n",
      "SADMOJI\n",
      "traitement de : letters_14/dest/HAPPYMOJI_4.jpg\n",
      "HAPPYMOJI\n",
      "traitement de : letters_14/dest/SADMOJI_4.jpg\n",
      "SADMOJI\n",
      "traitement de : letters_14/dest/ANGRYMOJI_3.jpg\n",
      "ANGRYMOJI\n",
      "traitement de : letters_14/dest/SADMOJI_3.jpg\n",
      "SADMOJI\n",
      "traitement de : letters_14/dest/ANGRYMOJI_5.jpg\n",
      "ANGRYMOJI\n",
      "traitement de : letters_14/dest/HAPPYMOJI_5.jpg\n",
      "HAPPYMOJI\n",
      "traitement de : letters_14/dest/ANGRYMOJI_2.jpg\n",
      "ANGRYMOJI\n",
      "traitement de : letters_14/dest/SADMOJI_5.jpg\n",
      "SADMOJI\n",
      "traitement de : letters_14/dest/ANGRYMOJI_1.jpg\n",
      "ANGRYMOJI\n",
      "traitement de : letters_14/dest/HAPPYMOJI_3.jpg\n",
      "HAPPYMOJI\n",
      "traitement de : letters_14/dest/HAPPYMOJI_1.jpg\n",
      "HAPPYMOJI\n",
      "traitement de : letters_14/dest/HAPPYMOJI_2.jpg\n",
      "HAPPYMOJI\n",
      "done\n"
     ]
    }
   ],
   "source": [
    "# letters_dir = os.path.join('letters_3','dest_4')\n",
    "letters_dir = os.path.join(SRC_DIR,'dest')\n",
    "# letters_dir = 'letters_10'\n",
    "# letters_dir = 'letters_10'\n",
    "getImagesAndLabels(letters_dir)\n",
    "print('done')"
   ],
   "metadata": {
    "collapsed": false,
    "pycharm": {
     "name": "#%%\n"
    }
   }
  },
  {
   "cell_type": "code",
   "execution_count": null,
   "outputs": [],
   "source": [],
   "metadata": {
    "collapsed": false,
    "pycharm": {
     "name": "#%%\n"
    }
   }
  }
 ],
 "metadata": {
  "kernelspec": {
   "display_name": "Python 3 (ipykernel)",
   "language": "python",
   "name": "python3"
  },
  "language_info": {
   "codemirror_mode": {
    "name": "ipython",
    "version": 3
   },
   "file_extension": ".py",
   "mimetype": "text/x-python",
   "name": "python",
   "nbconvert_exporter": "python",
   "pygments_lexer": "ipython3",
   "version": "3.9.12"
  }
 },
 "nbformat": 4,
 "nbformat_minor": 5
}