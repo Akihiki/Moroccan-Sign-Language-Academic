{
 "cells": [
  {
   "cell_type": "code",
   "execution_count": 37,
   "metadata": {
    "pycharm": {
     "name": "#%%\n"
    }
   },
   "outputs": [],
   "source": [
    "import pandas as pd\n",
    "from sklearn.model_selection import train_test_split\n",
    "from sklearn.metrics import accuracy_score, confusion_matrix, classification_report, f1_score, recall_score, precision_score\n",
    "from sklearn.svm import SVC\n",
    "from sklearn.model_selection import GridSearchCV\n",
    "import seaborn as sns\n",
    "import matplotlib.pyplot as plt"
   ]
  },
  {
   "cell_type": "code",
   "execution_count": 38,
   "outputs": [],
   "source": [
    "## Data Cleaning"
   ],
   "metadata": {
    "collapsed": false,
    "pycharm": {
     "name": "#%%\n"
    }
   }
  },
  {
   "cell_type": "code",
   "execution_count": 39,
   "metadata": {
    "pycharm": {
     "name": "#%%\n"
    }
   },
   "outputs": [
    {
     "data": {
      "text/plain": "             0         1             2         3         4         5  \\\n0     0.668133  0.575990 -1.245456e-06  0.559841  0.477058 -0.163110   \n1     0.775226  0.652336 -4.915925e-07  0.635080  0.496825 -0.127996   \n2     0.284280  0.718999 -9.384507e-07  0.366839  0.561318 -0.038444   \n3     0.515338  0.678122 -1.622071e-06  0.460059  0.536621 -0.153407   \n4     0.410791  0.818512 -4.476685e-07  0.443488  0.578370 -0.175250   \n...        ...       ...           ...       ...       ...       ...   \n9301  0.445015  0.784652  1.162402e-06  0.433808  0.675467 -0.021129   \n9302  0.533369  0.793101 -2.227718e-06  0.578185  0.638026  0.106232   \n9303  0.000000  0.000000  0.000000e+00  0.000000  0.000000  0.000000   \n9304  0.620235  0.878997 -2.239169e-06  0.571587  0.679500  0.097740   \n9305  0.327709  0.781391  1.397105e-06  0.387988  0.641312 -0.012526   \n\n             6         7         8         9  ...        54        55  \\\n0     0.502512  0.330015 -0.281766  0.486979  ...  0.341133  0.743112   \n1     0.477498  0.351564 -0.283799  0.460231  ...  0.481879  0.914799   \n2     0.524805  0.400856 -0.087301  0.592993  ...  0.651855  0.832896   \n3     0.480938  0.366841 -0.254906  0.531223  ...  0.413181  0.827054   \n4     0.462646  0.350566 -0.335886  0.411169  ...  0.788371  0.825140   \n...        ...       ...       ...       ...  ...       ...       ...   \n9301  0.389775  0.564036 -0.072053  0.361995  ...  0.315979  0.341876   \n9302  0.655826  0.503476  0.125469  0.683890  ...  0.659513  0.270566   \n9303  0.000000  0.000000  0.000000  0.000000  ...  0.000000  0.000000   \n9304  0.615597  0.540207  0.117163  0.636412  ...  0.618336  0.407362   \n9305  0.387555  0.505321 -0.067709  0.415428  ...  0.370526  0.268211   \n\n            56        57        58        59        60        61        62  \\\n0    -0.421287  0.379127  0.721945 -0.416987  0.505915  0.707158 -0.401877   \n1    -0.469226  0.521024  0.875066 -0.457533  0.616052  0.824982 -0.461446   \n2    -0.285252  0.591926  0.811353 -0.252740  0.510428  0.784820 -0.236421   \n3    -0.385353  0.402945  0.799876 -0.382126  0.467820  0.774531 -0.364127   \n4    -0.422565  0.736056  0.817047 -0.414728  0.631898  0.842833 -0.409830   \n...        ...       ...       ...       ...       ...       ...       ...   \n9301 -0.302919  0.418756  0.273966 -0.303546  0.493866  0.249219 -0.291593   \n9302 -0.237783  0.550375  0.206445 -0.236459  0.468267  0.197755 -0.225590   \n9303  0.000000  0.000000  0.000000  0.000000  0.000000  0.000000  0.000000   \n9304 -0.197863  0.516210  0.374304 -0.200964  0.444155  0.378288 -0.197785   \n9305 -0.312908  0.508058  0.239749 -0.316145  0.597792  0.248469 -0.307513   \n\n      Output  \n0          A  \n1          A  \n2          A  \n3          A  \n4          A  \n...      ...  \n9301       H  \n9302       H  \n9303       H  \n9304       H  \n9305       H  \n\n[9306 rows x 64 columns]",
      "text/html": "<div>\n<style scoped>\n    .dataframe tbody tr th:only-of-type {\n        vertical-align: middle;\n    }\n\n    .dataframe tbody tr th {\n        vertical-align: top;\n    }\n\n    .dataframe thead th {\n        text-align: right;\n    }\n</style>\n<table border=\"1\" class=\"dataframe\">\n  <thead>\n    <tr style=\"text-align: right;\">\n      <th></th>\n      <th>0</th>\n      <th>1</th>\n      <th>2</th>\n      <th>3</th>\n      <th>4</th>\n      <th>5</th>\n      <th>6</th>\n      <th>7</th>\n      <th>8</th>\n      <th>9</th>\n      <th>...</th>\n      <th>54</th>\n      <th>55</th>\n      <th>56</th>\n      <th>57</th>\n      <th>58</th>\n      <th>59</th>\n      <th>60</th>\n      <th>61</th>\n      <th>62</th>\n      <th>Output</th>\n    </tr>\n  </thead>\n  <tbody>\n    <tr>\n      <th>0</th>\n      <td>0.668133</td>\n      <td>0.575990</td>\n      <td>-1.245456e-06</td>\n      <td>0.559841</td>\n      <td>0.477058</td>\n      <td>-0.163110</td>\n      <td>0.502512</td>\n      <td>0.330015</td>\n      <td>-0.281766</td>\n      <td>0.486979</td>\n      <td>...</td>\n      <td>0.341133</td>\n      <td>0.743112</td>\n      <td>-0.421287</td>\n      <td>0.379127</td>\n      <td>0.721945</td>\n      <td>-0.416987</td>\n      <td>0.505915</td>\n      <td>0.707158</td>\n      <td>-0.401877</td>\n      <td>A</td>\n    </tr>\n    <tr>\n      <th>1</th>\n      <td>0.775226</td>\n      <td>0.652336</td>\n      <td>-4.915925e-07</td>\n      <td>0.635080</td>\n      <td>0.496825</td>\n      <td>-0.127996</td>\n      <td>0.477498</td>\n      <td>0.351564</td>\n      <td>-0.283799</td>\n      <td>0.460231</td>\n      <td>...</td>\n      <td>0.481879</td>\n      <td>0.914799</td>\n      <td>-0.469226</td>\n      <td>0.521024</td>\n      <td>0.875066</td>\n      <td>-0.457533</td>\n      <td>0.616052</td>\n      <td>0.824982</td>\n      <td>-0.461446</td>\n      <td>A</td>\n    </tr>\n    <tr>\n      <th>2</th>\n      <td>0.284280</td>\n      <td>0.718999</td>\n      <td>-9.384507e-07</td>\n      <td>0.366839</td>\n      <td>0.561318</td>\n      <td>-0.038444</td>\n      <td>0.524805</td>\n      <td>0.400856</td>\n      <td>-0.087301</td>\n      <td>0.592993</td>\n      <td>...</td>\n      <td>0.651855</td>\n      <td>0.832896</td>\n      <td>-0.285252</td>\n      <td>0.591926</td>\n      <td>0.811353</td>\n      <td>-0.252740</td>\n      <td>0.510428</td>\n      <td>0.784820</td>\n      <td>-0.236421</td>\n      <td>A</td>\n    </tr>\n    <tr>\n      <th>3</th>\n      <td>0.515338</td>\n      <td>0.678122</td>\n      <td>-1.622071e-06</td>\n      <td>0.460059</td>\n      <td>0.536621</td>\n      <td>-0.153407</td>\n      <td>0.480938</td>\n      <td>0.366841</td>\n      <td>-0.254906</td>\n      <td>0.531223</td>\n      <td>...</td>\n      <td>0.413181</td>\n      <td>0.827054</td>\n      <td>-0.385353</td>\n      <td>0.402945</td>\n      <td>0.799876</td>\n      <td>-0.382126</td>\n      <td>0.467820</td>\n      <td>0.774531</td>\n      <td>-0.364127</td>\n      <td>A</td>\n    </tr>\n    <tr>\n      <th>4</th>\n      <td>0.410791</td>\n      <td>0.818512</td>\n      <td>-4.476685e-07</td>\n      <td>0.443488</td>\n      <td>0.578370</td>\n      <td>-0.175250</td>\n      <td>0.462646</td>\n      <td>0.350566</td>\n      <td>-0.335886</td>\n      <td>0.411169</td>\n      <td>...</td>\n      <td>0.788371</td>\n      <td>0.825140</td>\n      <td>-0.422565</td>\n      <td>0.736056</td>\n      <td>0.817047</td>\n      <td>-0.414728</td>\n      <td>0.631898</td>\n      <td>0.842833</td>\n      <td>-0.409830</td>\n      <td>A</td>\n    </tr>\n    <tr>\n      <th>...</th>\n      <td>...</td>\n      <td>...</td>\n      <td>...</td>\n      <td>...</td>\n      <td>...</td>\n      <td>...</td>\n      <td>...</td>\n      <td>...</td>\n      <td>...</td>\n      <td>...</td>\n      <td>...</td>\n      <td>...</td>\n      <td>...</td>\n      <td>...</td>\n      <td>...</td>\n      <td>...</td>\n      <td>...</td>\n      <td>...</td>\n      <td>...</td>\n      <td>...</td>\n      <td>...</td>\n    </tr>\n    <tr>\n      <th>9301</th>\n      <td>0.445015</td>\n      <td>0.784652</td>\n      <td>1.162402e-06</td>\n      <td>0.433808</td>\n      <td>0.675467</td>\n      <td>-0.021129</td>\n      <td>0.389775</td>\n      <td>0.564036</td>\n      <td>-0.072053</td>\n      <td>0.361995</td>\n      <td>...</td>\n      <td>0.315979</td>\n      <td>0.341876</td>\n      <td>-0.302919</td>\n      <td>0.418756</td>\n      <td>0.273966</td>\n      <td>-0.303546</td>\n      <td>0.493866</td>\n      <td>0.249219</td>\n      <td>-0.291593</td>\n      <td>H</td>\n    </tr>\n    <tr>\n      <th>9302</th>\n      <td>0.533369</td>\n      <td>0.793101</td>\n      <td>-2.227718e-06</td>\n      <td>0.578185</td>\n      <td>0.638026</td>\n      <td>0.106232</td>\n      <td>0.655826</td>\n      <td>0.503476</td>\n      <td>0.125469</td>\n      <td>0.683890</td>\n      <td>...</td>\n      <td>0.659513</td>\n      <td>0.270566</td>\n      <td>-0.237783</td>\n      <td>0.550375</td>\n      <td>0.206445</td>\n      <td>-0.236459</td>\n      <td>0.468267</td>\n      <td>0.197755</td>\n      <td>-0.225590</td>\n      <td>H</td>\n    </tr>\n    <tr>\n      <th>9303</th>\n      <td>0.000000</td>\n      <td>0.000000</td>\n      <td>0.000000e+00</td>\n      <td>0.000000</td>\n      <td>0.000000</td>\n      <td>0.000000</td>\n      <td>0.000000</td>\n      <td>0.000000</td>\n      <td>0.000000</td>\n      <td>0.000000</td>\n      <td>...</td>\n      <td>0.000000</td>\n      <td>0.000000</td>\n      <td>0.000000</td>\n      <td>0.000000</td>\n      <td>0.000000</td>\n      <td>0.000000</td>\n      <td>0.000000</td>\n      <td>0.000000</td>\n      <td>0.000000</td>\n      <td>H</td>\n    </tr>\n    <tr>\n      <th>9304</th>\n      <td>0.620235</td>\n      <td>0.878997</td>\n      <td>-2.239169e-06</td>\n      <td>0.571587</td>\n      <td>0.679500</td>\n      <td>0.097740</td>\n      <td>0.615597</td>\n      <td>0.540207</td>\n      <td>0.117163</td>\n      <td>0.636412</td>\n      <td>...</td>\n      <td>0.618336</td>\n      <td>0.407362</td>\n      <td>-0.197863</td>\n      <td>0.516210</td>\n      <td>0.374304</td>\n      <td>-0.200964</td>\n      <td>0.444155</td>\n      <td>0.378288</td>\n      <td>-0.197785</td>\n      <td>H</td>\n    </tr>\n    <tr>\n      <th>9305</th>\n      <td>0.327709</td>\n      <td>0.781391</td>\n      <td>1.397105e-06</td>\n      <td>0.387988</td>\n      <td>0.641312</td>\n      <td>-0.012526</td>\n      <td>0.387555</td>\n      <td>0.505321</td>\n      <td>-0.067709</td>\n      <td>0.415428</td>\n      <td>...</td>\n      <td>0.370526</td>\n      <td>0.268211</td>\n      <td>-0.312908</td>\n      <td>0.508058</td>\n      <td>0.239749</td>\n      <td>-0.316145</td>\n      <td>0.597792</td>\n      <td>0.248469</td>\n      <td>-0.307513</td>\n      <td>H</td>\n    </tr>\n  </tbody>\n</table>\n<p>9306 rows × 64 columns</p>\n</div>"
     },
     "execution_count": 39,
     "metadata": {},
     "output_type": "execute_result"
    }
   ],
   "source": [
    "df = pd.read_csv('../model/msl_4.csv')\n",
    "df.columns = [i for i in range(df.shape[1])]\n",
    "df = df.rename(columns={63: 'Output'})\n",
    "df"
   ]
  },
  {
   "cell_type": "code",
   "execution_count": 40,
   "metadata": {
    "pycharm": {
     "name": "#%%\n"
    }
   },
   "outputs": [
    {
     "name": "stdout",
     "output_type": "stream",
     "text": [
      "Uncleaned dataset shape = (9306, 64)\n"
     ]
    }
   ],
   "source": [
    "print(\"Uncleaned dataset shape =\", df.shape)"
   ]
  },
  {
   "cell_type": "code",
   "execution_count": 41,
   "metadata": {
    "pycharm": {
     "name": "#%%\n"
    }
   },
   "outputs": [
    {
     "name": "stdout",
     "output_type": "stream",
     "text": [
      "Number of null values = 379\n"
     ]
    }
   ],
   "source": [
    "# removing null values from our dataset\n",
    "\n",
    "all_null_values = df[df.iloc[:, 0] == 0]\n",
    "print(\"Number of null values =\", len(all_null_values.index))"
   ]
  },
  {
   "cell_type": "code",
   "execution_count": 42,
   "metadata": {
    "pycharm": {
     "name": "#%%\n"
    }
   },
   "outputs": [],
   "source": [
    "# dropping those null values from our dataset\n",
    "\n",
    "df.drop(all_null_values.index, inplace=True)"
   ]
  },
  {
   "cell_type": "code",
   "execution_count": 43,
   "metadata": {
    "pycharm": {
     "name": "#%%\n"
    }
   },
   "outputs": [
    {
     "data": {
      "text/plain": "             0         1             2         3         4         5  \\\n0     0.668133  0.575990 -1.245456e-06  0.559841  0.477058 -0.163110   \n1     0.775226  0.652336 -4.915925e-07  0.635080  0.496825 -0.127996   \n2     0.284280  0.718999 -9.384507e-07  0.366839  0.561318 -0.038444   \n3     0.515338  0.678122 -1.622071e-06  0.460059  0.536621 -0.153407   \n4     0.410791  0.818512 -4.476685e-07  0.443488  0.578370 -0.175250   \n...        ...       ...           ...       ...       ...       ...   \n9300  0.393517  0.899451  6.069165e-07  0.419059  0.674184  0.056388   \n9301  0.445015  0.784652  1.162402e-06  0.433808  0.675467 -0.021129   \n9302  0.533369  0.793101 -2.227718e-06  0.578185  0.638026  0.106232   \n9304  0.620235  0.878997 -2.239169e-06  0.571587  0.679500  0.097740   \n9305  0.327709  0.781391  1.397105e-06  0.387988  0.641312 -0.012526   \n\n             6         7         8         9  ...        54        55  \\\n0     0.502512  0.330015 -0.281766  0.486979  ...  0.341133  0.743112   \n1     0.477498  0.351564 -0.283799  0.460231  ...  0.481879  0.914799   \n2     0.524805  0.400856 -0.087301  0.592993  ...  0.651855  0.832896   \n3     0.480938  0.366841 -0.254906  0.531223  ...  0.413181  0.827054   \n4     0.462646  0.350566 -0.335886  0.411169  ...  0.788371  0.825140   \n...        ...       ...       ...       ...  ...       ...       ...   \n9300  0.344390  0.521402  0.052530  0.315181  ...  0.324488  0.398070   \n9301  0.389775  0.564036 -0.072053  0.361995  ...  0.315979  0.341876   \n9302  0.655826  0.503476  0.125469  0.683890  ...  0.659513  0.270566   \n9304  0.615597  0.540207  0.117163  0.636412  ...  0.618336  0.407362   \n9305  0.387555  0.505321 -0.067709  0.415428  ...  0.370526  0.268211   \n\n            56        57        58        59        60        61        62  \\\n0    -0.421287  0.379127  0.721945 -0.416987  0.505915  0.707158 -0.401877   \n1    -0.469226  0.521024  0.875066 -0.457533  0.616052  0.824982 -0.461446   \n2    -0.285252  0.591926  0.811353 -0.252740  0.510428  0.784820 -0.236421   \n3    -0.385353  0.402945  0.799876 -0.382126  0.467820  0.774531 -0.364127   \n4    -0.422565  0.736056  0.817047 -0.414728  0.631898  0.842833 -0.409830   \n...        ...       ...       ...       ...       ...       ...       ...   \n9300 -0.229341  0.457643  0.359642 -0.223927  0.549845  0.357939 -0.207999   \n9301 -0.302919  0.418756  0.273966 -0.303546  0.493866  0.249219 -0.291593   \n9302 -0.237783  0.550375  0.206445 -0.236459  0.468267  0.197755 -0.225590   \n9304 -0.197863  0.516210  0.374304 -0.200964  0.444155  0.378288 -0.197785   \n9305 -0.312908  0.508058  0.239749 -0.316145  0.597792  0.248469 -0.307513   \n\n      Output  \n0          A  \n1          A  \n2          A  \n3          A  \n4          A  \n...      ...  \n9300       H  \n9301       H  \n9302       H  \n9304       H  \n9305       H  \n\n[8927 rows x 64 columns]",
      "text/html": "<div>\n<style scoped>\n    .dataframe tbody tr th:only-of-type {\n        vertical-align: middle;\n    }\n\n    .dataframe tbody tr th {\n        vertical-align: top;\n    }\n\n    .dataframe thead th {\n        text-align: right;\n    }\n</style>\n<table border=\"1\" class=\"dataframe\">\n  <thead>\n    <tr style=\"text-align: right;\">\n      <th></th>\n      <th>0</th>\n      <th>1</th>\n      <th>2</th>\n      <th>3</th>\n      <th>4</th>\n      <th>5</th>\n      <th>6</th>\n      <th>7</th>\n      <th>8</th>\n      <th>9</th>\n      <th>...</th>\n      <th>54</th>\n      <th>55</th>\n      <th>56</th>\n      <th>57</th>\n      <th>58</th>\n      <th>59</th>\n      <th>60</th>\n      <th>61</th>\n      <th>62</th>\n      <th>Output</th>\n    </tr>\n  </thead>\n  <tbody>\n    <tr>\n      <th>0</th>\n      <td>0.668133</td>\n      <td>0.575990</td>\n      <td>-1.245456e-06</td>\n      <td>0.559841</td>\n      <td>0.477058</td>\n      <td>-0.163110</td>\n      <td>0.502512</td>\n      <td>0.330015</td>\n      <td>-0.281766</td>\n      <td>0.486979</td>\n      <td>...</td>\n      <td>0.341133</td>\n      <td>0.743112</td>\n      <td>-0.421287</td>\n      <td>0.379127</td>\n      <td>0.721945</td>\n      <td>-0.416987</td>\n      <td>0.505915</td>\n      <td>0.707158</td>\n      <td>-0.401877</td>\n      <td>A</td>\n    </tr>\n    <tr>\n      <th>1</th>\n      <td>0.775226</td>\n      <td>0.652336</td>\n      <td>-4.915925e-07</td>\n      <td>0.635080</td>\n      <td>0.496825</td>\n      <td>-0.127996</td>\n      <td>0.477498</td>\n      <td>0.351564</td>\n      <td>-0.283799</td>\n      <td>0.460231</td>\n      <td>...</td>\n      <td>0.481879</td>\n      <td>0.914799</td>\n      <td>-0.469226</td>\n      <td>0.521024</td>\n      <td>0.875066</td>\n      <td>-0.457533</td>\n      <td>0.616052</td>\n      <td>0.824982</td>\n      <td>-0.461446</td>\n      <td>A</td>\n    </tr>\n    <tr>\n      <th>2</th>\n      <td>0.284280</td>\n      <td>0.718999</td>\n      <td>-9.384507e-07</td>\n      <td>0.366839</td>\n      <td>0.561318</td>\n      <td>-0.038444</td>\n      <td>0.524805</td>\n      <td>0.400856</td>\n      <td>-0.087301</td>\n      <td>0.592993</td>\n      <td>...</td>\n      <td>0.651855</td>\n      <td>0.832896</td>\n      <td>-0.285252</td>\n      <td>0.591926</td>\n      <td>0.811353</td>\n      <td>-0.252740</td>\n      <td>0.510428</td>\n      <td>0.784820</td>\n      <td>-0.236421</td>\n      <td>A</td>\n    </tr>\n    <tr>\n      <th>3</th>\n      <td>0.515338</td>\n      <td>0.678122</td>\n      <td>-1.622071e-06</td>\n      <td>0.460059</td>\n      <td>0.536621</td>\n      <td>-0.153407</td>\n      <td>0.480938</td>\n      <td>0.366841</td>\n      <td>-0.254906</td>\n      <td>0.531223</td>\n      <td>...</td>\n      <td>0.413181</td>\n      <td>0.827054</td>\n      <td>-0.385353</td>\n      <td>0.402945</td>\n      <td>0.799876</td>\n      <td>-0.382126</td>\n      <td>0.467820</td>\n      <td>0.774531</td>\n      <td>-0.364127</td>\n      <td>A</td>\n    </tr>\n    <tr>\n      <th>4</th>\n      <td>0.410791</td>\n      <td>0.818512</td>\n      <td>-4.476685e-07</td>\n      <td>0.443488</td>\n      <td>0.578370</td>\n      <td>-0.175250</td>\n      <td>0.462646</td>\n      <td>0.350566</td>\n      <td>-0.335886</td>\n      <td>0.411169</td>\n      <td>...</td>\n      <td>0.788371</td>\n      <td>0.825140</td>\n      <td>-0.422565</td>\n      <td>0.736056</td>\n      <td>0.817047</td>\n      <td>-0.414728</td>\n      <td>0.631898</td>\n      <td>0.842833</td>\n      <td>-0.409830</td>\n      <td>A</td>\n    </tr>\n    <tr>\n      <th>...</th>\n      <td>...</td>\n      <td>...</td>\n      <td>...</td>\n      <td>...</td>\n      <td>...</td>\n      <td>...</td>\n      <td>...</td>\n      <td>...</td>\n      <td>...</td>\n      <td>...</td>\n      <td>...</td>\n      <td>...</td>\n      <td>...</td>\n      <td>...</td>\n      <td>...</td>\n      <td>...</td>\n      <td>...</td>\n      <td>...</td>\n      <td>...</td>\n      <td>...</td>\n      <td>...</td>\n    </tr>\n    <tr>\n      <th>9300</th>\n      <td>0.393517</td>\n      <td>0.899451</td>\n      <td>6.069165e-07</td>\n      <td>0.419059</td>\n      <td>0.674184</td>\n      <td>0.056388</td>\n      <td>0.344390</td>\n      <td>0.521402</td>\n      <td>0.052530</td>\n      <td>0.315181</td>\n      <td>...</td>\n      <td>0.324488</td>\n      <td>0.398070</td>\n      <td>-0.229341</td>\n      <td>0.457643</td>\n      <td>0.359642</td>\n      <td>-0.223927</td>\n      <td>0.549845</td>\n      <td>0.357939</td>\n      <td>-0.207999</td>\n      <td>H</td>\n    </tr>\n    <tr>\n      <th>9301</th>\n      <td>0.445015</td>\n      <td>0.784652</td>\n      <td>1.162402e-06</td>\n      <td>0.433808</td>\n      <td>0.675467</td>\n      <td>-0.021129</td>\n      <td>0.389775</td>\n      <td>0.564036</td>\n      <td>-0.072053</td>\n      <td>0.361995</td>\n      <td>...</td>\n      <td>0.315979</td>\n      <td>0.341876</td>\n      <td>-0.302919</td>\n      <td>0.418756</td>\n      <td>0.273966</td>\n      <td>-0.303546</td>\n      <td>0.493866</td>\n      <td>0.249219</td>\n      <td>-0.291593</td>\n      <td>H</td>\n    </tr>\n    <tr>\n      <th>9302</th>\n      <td>0.533369</td>\n      <td>0.793101</td>\n      <td>-2.227718e-06</td>\n      <td>0.578185</td>\n      <td>0.638026</td>\n      <td>0.106232</td>\n      <td>0.655826</td>\n      <td>0.503476</td>\n      <td>0.125469</td>\n      <td>0.683890</td>\n      <td>...</td>\n      <td>0.659513</td>\n      <td>0.270566</td>\n      <td>-0.237783</td>\n      <td>0.550375</td>\n      <td>0.206445</td>\n      <td>-0.236459</td>\n      <td>0.468267</td>\n      <td>0.197755</td>\n      <td>-0.225590</td>\n      <td>H</td>\n    </tr>\n    <tr>\n      <th>9304</th>\n      <td>0.620235</td>\n      <td>0.878997</td>\n      <td>-2.239169e-06</td>\n      <td>0.571587</td>\n      <td>0.679500</td>\n      <td>0.097740</td>\n      <td>0.615597</td>\n      <td>0.540207</td>\n      <td>0.117163</td>\n      <td>0.636412</td>\n      <td>...</td>\n      <td>0.618336</td>\n      <td>0.407362</td>\n      <td>-0.197863</td>\n      <td>0.516210</td>\n      <td>0.374304</td>\n      <td>-0.200964</td>\n      <td>0.444155</td>\n      <td>0.378288</td>\n      <td>-0.197785</td>\n      <td>H</td>\n    </tr>\n    <tr>\n      <th>9305</th>\n      <td>0.327709</td>\n      <td>0.781391</td>\n      <td>1.397105e-06</td>\n      <td>0.387988</td>\n      <td>0.641312</td>\n      <td>-0.012526</td>\n      <td>0.387555</td>\n      <td>0.505321</td>\n      <td>-0.067709</td>\n      <td>0.415428</td>\n      <td>...</td>\n      <td>0.370526</td>\n      <td>0.268211</td>\n      <td>-0.312908</td>\n      <td>0.508058</td>\n      <td>0.239749</td>\n      <td>-0.316145</td>\n      <td>0.597792</td>\n      <td>0.248469</td>\n      <td>-0.307513</td>\n      <td>H</td>\n    </tr>\n  </tbody>\n</table>\n<p>8927 rows × 64 columns</p>\n</div>"
     },
     "execution_count": 43,
     "metadata": {},
     "output_type": "execute_result"
    }
   ],
   "source": [
    "df"
   ]
  },
  {
   "cell_type": "code",
   "execution_count": 44,
   "metadata": {
    "pycharm": {
     "name": "#%%\n"
    }
   },
   "outputs": [
    {
     "name": "stdout",
     "output_type": "stream",
     "text": [
      "Cleaned dataset shape = (8927, 64)\n"
     ]
    }
   ],
   "source": [
    "print(\"Cleaned dataset shape =\", df.shape)"
   ]
  },
  {
   "cell_type": "markdown",
   "metadata": {
    "pycharm": {
     "name": "#%% md\n"
    }
   },
   "source": [
    "## Data Preparation"
   ]
  },
  {
   "cell_type": "code",
   "execution_count": 45,
   "metadata": {
    "pycharm": {
     "name": "#%%\n"
    }
   },
   "outputs": [
    {
     "name": "stdout",
     "output_type": "stream",
     "text": [
      "Features shape = (8927, 63)\n",
      "Labels shape = (8927,)\n"
     ]
    }
   ],
   "source": [
    "X = df.iloc[:, :-1]\n",
    "print(\"Features shape =\", X.shape)\n",
    "\n",
    "Y = df.iloc[:, -1]\n",
    "print(\"Labels shape =\", Y.shape)"
   ]
  },
  {
   "cell_type": "markdown",
   "metadata": {
    "pycharm": {
     "name": "#%% md\n"
    }
   },
   "source": [
    "## Data Split"
   ]
  },
  {
   "cell_type": "code",
   "execution_count": 46,
   "metadata": {
    "pycharm": {
     "name": "#%%\n"
    }
   },
   "outputs": [],
   "source": [
    "x_train, x_test, y_train, y_test = train_test_split(X, Y, test_size=0.2, random_state=0)"
   ]
  },
  {
   "cell_type": "markdown",
   "metadata": {
    "pycharm": {
     "name": "#%% md\n"
    }
   },
   "source": [
    "## Model Making"
   ]
  },
  {
   "cell_type": "code",
   "execution_count": 47,
   "metadata": {
    "pycharm": {
     "name": "#%%\n"
    }
   },
   "outputs": [],
   "source": [
    "svm = SVC(C=100, gamma=0.1, kernel='rbf')"
   ]
  },
  {
   "cell_type": "code",
   "execution_count": 48,
   "metadata": {
    "pycharm": {
     "name": "#%%\n"
    }
   },
   "outputs": [
    {
     "data": {
      "text/plain": "SVC(C=100, gamma=0.1)",
      "text/html": "<style>#sk-container-id-1 {color: black;background-color: white;}#sk-container-id-1 pre{padding: 0;}#sk-container-id-1 div.sk-toggleable {background-color: white;}#sk-container-id-1 label.sk-toggleable__label {cursor: pointer;display: block;width: 100%;margin-bottom: 0;padding: 0.3em;box-sizing: border-box;text-align: center;}#sk-container-id-1 label.sk-toggleable__label-arrow:before {content: \"▸\";float: left;margin-right: 0.25em;color: #696969;}#sk-container-id-1 label.sk-toggleable__label-arrow:hover:before {color: black;}#sk-container-id-1 div.sk-estimator:hover label.sk-toggleable__label-arrow:before {color: black;}#sk-container-id-1 div.sk-toggleable__content {max-height: 0;max-width: 0;overflow: hidden;text-align: left;background-color: #f0f8ff;}#sk-container-id-1 div.sk-toggleable__content pre {margin: 0.2em;color: black;border-radius: 0.25em;background-color: #f0f8ff;}#sk-container-id-1 input.sk-toggleable__control:checked~div.sk-toggleable__content {max-height: 200px;max-width: 100%;overflow: auto;}#sk-container-id-1 input.sk-toggleable__control:checked~label.sk-toggleable__label-arrow:before {content: \"▾\";}#sk-container-id-1 div.sk-estimator input.sk-toggleable__control:checked~label.sk-toggleable__label {background-color: #d4ebff;}#sk-container-id-1 div.sk-label input.sk-toggleable__control:checked~label.sk-toggleable__label {background-color: #d4ebff;}#sk-container-id-1 input.sk-hidden--visually {border: 0;clip: rect(1px 1px 1px 1px);clip: rect(1px, 1px, 1px, 1px);height: 1px;margin: -1px;overflow: hidden;padding: 0;position: absolute;width: 1px;}#sk-container-id-1 div.sk-estimator {font-family: monospace;background-color: #f0f8ff;border: 1px dotted black;border-radius: 0.25em;box-sizing: border-box;margin-bottom: 0.5em;}#sk-container-id-1 div.sk-estimator:hover {background-color: #d4ebff;}#sk-container-id-1 div.sk-parallel-item::after {content: \"\";width: 100%;border-bottom: 1px solid gray;flex-grow: 1;}#sk-container-id-1 div.sk-label:hover label.sk-toggleable__label {background-color: #d4ebff;}#sk-container-id-1 div.sk-serial::before {content: \"\";position: absolute;border-left: 1px solid gray;box-sizing: border-box;top: 0;bottom: 0;left: 50%;z-index: 0;}#sk-container-id-1 div.sk-serial {display: flex;flex-direction: column;align-items: center;background-color: white;padding-right: 0.2em;padding-left: 0.2em;position: relative;}#sk-container-id-1 div.sk-item {position: relative;z-index: 1;}#sk-container-id-1 div.sk-parallel {display: flex;align-items: stretch;justify-content: center;background-color: white;position: relative;}#sk-container-id-1 div.sk-item::before, #sk-container-id-1 div.sk-parallel-item::before {content: \"\";position: absolute;border-left: 1px solid gray;box-sizing: border-box;top: 0;bottom: 0;left: 50%;z-index: -1;}#sk-container-id-1 div.sk-parallel-item {display: flex;flex-direction: column;z-index: 1;position: relative;background-color: white;}#sk-container-id-1 div.sk-parallel-item:first-child::after {align-self: flex-end;width: 50%;}#sk-container-id-1 div.sk-parallel-item:last-child::after {align-self: flex-start;width: 50%;}#sk-container-id-1 div.sk-parallel-item:only-child::after {width: 0;}#sk-container-id-1 div.sk-dashed-wrapped {border: 1px dashed gray;margin: 0 0.4em 0.5em 0.4em;box-sizing: border-box;padding-bottom: 0.4em;background-color: white;}#sk-container-id-1 div.sk-label label {font-family: monospace;font-weight: bold;display: inline-block;line-height: 1.2em;}#sk-container-id-1 div.sk-label-container {text-align: center;}#sk-container-id-1 div.sk-container {/* jupyter's `normalize.less` sets `[hidden] { display: none; }` but bootstrap.min.css set `[hidden] { display: none !important; }` so we also need the `!important` here to be able to override the default hidden behavior on the sphinx rendered scikit-learn.org. See: https://github.com/scikit-learn/scikit-learn/issues/21755 */display: inline-block !important;position: relative;}#sk-container-id-1 div.sk-text-repr-fallback {display: none;}</style><div id=\"sk-container-id-1\" class=\"sk-top-container\"><div class=\"sk-text-repr-fallback\"><pre>SVC(C=100, gamma=0.1)</pre><b>In a Jupyter environment, please rerun this cell to show the HTML representation or trust the notebook. <br />On GitHub, the HTML representation is unable to render, please try loading this page with nbviewer.org.</b></div><div class=\"sk-container\" hidden><div class=\"sk-item\"><div class=\"sk-estimator sk-toggleable\"><input class=\"sk-toggleable__control sk-hidden--visually\" id=\"sk-estimator-id-1\" type=\"checkbox\" checked><label for=\"sk-estimator-id-1\" class=\"sk-toggleable__label sk-toggleable__label-arrow\">SVC</label><div class=\"sk-toggleable__content\"><pre>SVC(C=100, gamma=0.1)</pre></div></div></div></div></div>"
     },
     "execution_count": 48,
     "metadata": {},
     "output_type": "execute_result"
    }
   ],
   "source": [
    "# print(x_train,y_train)\n",
    "svm.fit(x_train, y_train)"
   ]
  },
  {
   "cell_type": "code",
   "execution_count": 49,
   "metadata": {
    "pycharm": {
     "name": "#%%\n"
    }
   },
   "outputs": [
    {
     "name": "stdout",
     "output_type": "stream",
     "text": [
      "Training score = 1.0\n"
     ]
    }
   ],
   "source": [
    "print(\"Training score =\", svm.score(x_train, y_train))"
   ]
  },
  {
   "cell_type": "code",
   "execution_count": 50,
   "metadata": {
    "pycharm": {
     "name": "#%%\n"
    }
   },
   "outputs": [],
   "source": [
    "y_pred = svm.predict(x_test)"
   ]
  },
  {
   "cell_type": "code",
   "execution_count": 51,
   "metadata": {
    "pycharm": {
     "name": "#%%\n"
    }
   },
   "outputs": [
    {
     "name": "stdout",
     "output_type": "stream",
     "text": [
      "Testing score = 1.0\n"
     ]
    }
   ],
   "source": [
    "print(\"Testing score =\", accuracy_score(y_test, y_pred))"
   ]
  },
  {
   "cell_type": "markdown",
   "metadata": {
    "pycharm": {
     "name": "#%% md\n"
    }
   },
   "source": [
    "## Visualization"
   ]
  },
  {
   "cell_type": "code",
   "execution_count": 52,
   "metadata": {
    "pycharm": {
     "name": "#%%\n"
    }
   },
   "outputs": [],
   "source": [
    "cf_matrix = confusion_matrix(y_test, y_pred)\n",
    "f1 = f1_score(y_test, y_pred, average='micro')\n",
    "recall = recall_score(y_test, y_pred, average='micro')\n",
    "precision = precision_score(y_test, y_pred, average='micro')"
   ]
  },
  {
   "cell_type": "code",
   "execution_count": 53,
   "metadata": {
    "pycharm": {
     "name": "#%%\n"
    }
   },
   "outputs": [
    {
     "data": {
      "text/plain": "(1.0, 1.0, 1.0)"
     },
     "execution_count": 53,
     "metadata": {},
     "output_type": "execute_result"
    }
   ],
   "source": [
    "f1, recall, precision"
   ]
  },
  {
   "cell_type": "code",
   "execution_count": 54,
   "metadata": {
    "pycharm": {
     "name": "#%%\n"
    }
   },
   "outputs": [
    {
     "data": {
      "text/plain": "<AxesSubplot:title={'center':'Confusion Matrix - American Sign Language'}>"
     },
     "execution_count": 54,
     "metadata": {},
     "output_type": "execute_result"
    },
    {
     "data": {
      "text/plain": "<Figure size 864x864 with 2 Axes>",
      "image/png": "[encoded data removed]"
     },
     "metadata": {
      "needs_background": "light"
     },
     "output_type": "display_data"
    }
   ],
   "source": [
    "labels = sorted(list(set(df['Output'])))\n",
    "labels = [x.upper() for x in labels]\n",
    "\n",
    "fig, ax = plt.subplots(figsize=(12, 12))\n",
    "\n",
    "ax.set_title(\"Confusion Matrix - American Sign Language\")\n",
    "\n",
    "maping = sns.heatmap(cf_matrix, \n",
    "                     annot=True,\n",
    "                     cmap = plt.cm.Blues, \n",
    "                     linewidths=.2,\n",
    "                     xticklabels=labels,\n",
    "                     yticklabels=labels, vmax=8,\n",
    "                     fmt='g',\n",
    "                     ax=ax\n",
    "                    )\n",
    "maping"
   ]
  },
  {
   "cell_type": "code",
   "execution_count": 55,
   "metadata": {
    "pycharm": {
     "name": "#%%\n"
    }
   },
   "outputs": [],
   "source": [
    "maping.figure.savefig(\"msl_output_4.png\")"
   ]
  },
  {
   "cell_type": "code",
   "execution_count": 56,
   "metadata": {
    "pycharm": {
     "name": "#%%\n"
    }
   },
   "outputs": [],
   "source": [
    "import joblib"
   ]
  },
  {
   "cell_type": "code",
   "execution_count": 57,
   "metadata": {
    "pycharm": {
     "name": "#%%\n"
    }
   },
   "outputs": [
    {
     "data": {
      "text/plain": "['../model/msl_model_4.pkl']"
     },
     "execution_count": 57,
     "metadata": {},
     "output_type": "execute_result"
    }
   ],
   "source": [
    "\n",
    "joblib.dump(svm, \"../model/msl_model_4.pkl\")"
   ]
  }
 ],
 "metadata": {
  "interpreter": {
   "hash": "9c2cf4ec5ee9b59ff7df97a8a943f816c7146a0dce24d42f59d5f8c2e69c1489"
  },
  "kernelspec": {
   "display_name": "Python 3.9.12 ('base')",
   "language": "python",
   "name": "python3"
  },
  "language_info": {
   "codemirror_mode": {
    "name": "ipython",
    "version": 3
   },
   "file_extension": ".py",
   "mimetype": "text/x-python",
   "name": "python",
   "nbconvert_exporter": "python",
   "pygments_lexer": "ipython3",
   "version": "3.9.12"
  }
 },
 "nbformat": 4,
 "nbformat_minor": 4
}